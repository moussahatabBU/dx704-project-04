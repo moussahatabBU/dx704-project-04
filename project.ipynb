{
  "cells": [
    {
      "cell_type": "markdown",
      "metadata": {
        "id": "Md413FzAvFD8"
      },
      "source": [
        "# DX 704 Week 4 Project\n",
        "\n",
        "This week's project will test the learning speed of linear contextual bandits compared to unoptimized approaches.\n",
        "You will start with building a preference data set for evaluation, and then implement different variations of LinUCB and visualize how fast they learn the preferences.\n"
      ]
    },
    {
      "cell_type": "markdown",
      "metadata": {
        "id": "D3gs-tquuzJe"
      },
      "source": [
        "The full project description, a template notebook and supporting code are available on GitHub: [Project 4 Materials](https://github.com/bu-cds-dx704/dx704-project-04).\n"
      ]
    },
    {
      "cell_type": "markdown",
      "metadata": {
        "id": "OguIjc5idW3Z"
      },
      "source": [
        "## Example Code\n",
        "\n",
        "You may find it helpful to refer to these GitHub repositories of Jupyter notebooks for example code.\n",
        "\n",
        "* https://github.com/bu-cds-omds/dx601-examples\n",
        "* https://github.com/bu-cds-omds/dx602-examples\n",
        "* https://github.com/bu-cds-omds/dx603-examples\n",
        "* https://github.com/bu-cds-omds/dx704-examples\n",
        "\n",
        "Any calculations demonstrated in code examples or videos may be found in these notebooks, and you are allowed to copy this example code in your homework answers."
      ]
    },
    {
      "cell_type": "markdown",
      "metadata": {
        "id": "C8oSLkMqvMFF"
      },
      "source": [
        "## Part 1: Collect Rating Data\n",
        "\n",
        "The file \"recipes.tsv\" in this repository has information about 100 recipes.\n",
        "Make a new file \"ratings.tsv\" with two columns, recipe_slug (from recipes.tsv) and rating.\n",
        "Populate the rating column with values between 0 and 1 where 0 is the worst and 1 is the best.\n",
        "You can assign these ratings however you want within that range, but try to make it reflect a consistent set of preferences.\n",
        "These could be your preferences, or a persona of your choosing (e.g. chocolate lover, bacon-obsessed, or sweet tooth).\n",
        "Make sure that there are at least 10 ratings of zero and at least 10 ratings of one.\n"
      ]
    },
    {
      "cell_type": "code",
      "execution_count": 43,
      "metadata": {},
      "outputs": [],
      "source": [
        "import pandas as pd \n",
        "import numpy as np"
      ]
    },
    {
      "cell_type": "code",
      "execution_count": 44,
      "metadata": {},
      "outputs": [
        {
          "data": {
            "text/html": [
              "<div>\n",
              "<style scoped>\n",
              "    .dataframe tbody tr th:only-of-type {\n",
              "        vertical-align: middle;\n",
              "    }\n",
              "\n",
              "    .dataframe tbody tr th {\n",
              "        vertical-align: top;\n",
              "    }\n",
              "\n",
              "    .dataframe thead th {\n",
              "        text-align: right;\n",
              "    }\n",
              "</style>\n",
              "<table border=\"1\" class=\"dataframe\">\n",
              "  <thead>\n",
              "    <tr style=\"text-align: right;\">\n",
              "      <th></th>\n",
              "      <th>recipe_slug</th>\n",
              "      <th>recipe_title</th>\n",
              "      <th>recipe_introduction</th>\n",
              "    </tr>\n",
              "  </thead>\n",
              "  <tbody>\n",
              "    <tr>\n",
              "      <th>0</th>\n",
              "      <td>falafel</td>\n",
              "      <td>Falafel</td>\n",
              "      <td>Falafel is a popular Middle Eastern dish made ...</td>\n",
              "    </tr>\n",
              "    <tr>\n",
              "      <th>1</th>\n",
              "      <td>spamburger</td>\n",
              "      <td>Spamburger</td>\n",
              "      <td>Spamburger is a type of hamburger that is made...</td>\n",
              "    </tr>\n",
              "    <tr>\n",
              "      <th>2</th>\n",
              "      <td>bacon-fried-rice</td>\n",
              "      <td>Bacon Fried Rice</td>\n",
              "      <td>Bacon fried rice is a savory and satisfying di...</td>\n",
              "    </tr>\n",
              "    <tr>\n",
              "      <th>3</th>\n",
              "      <td>chicken-fingers</td>\n",
              "      <td>Chicken Fingers</td>\n",
              "      <td>Chicken fingers are a popular dish made from c...</td>\n",
              "    </tr>\n",
              "    <tr>\n",
              "      <th>4</th>\n",
              "      <td>apple-crisp</td>\n",
              "      <td>Apple Crisp</td>\n",
              "      <td>Apple crisp is a classic dessert made with bak...</td>\n",
              "    </tr>\n",
              "    <tr>\n",
              "      <th>...</th>\n",
              "      <td>...</td>\n",
              "      <td>...</td>\n",
              "      <td>...</td>\n",
              "    </tr>\n",
              "    <tr>\n",
              "      <th>95</th>\n",
              "      <td>bacon-mac-and-cheese</td>\n",
              "      <td>Bacon Mac And Cheese</td>\n",
              "      <td>Bacon mac and cheese is a delicious and comfor...</td>\n",
              "    </tr>\n",
              "    <tr>\n",
              "      <th>96</th>\n",
              "      <td>chicken-alfredo-lasagna</td>\n",
              "      <td>Chicken Alfredo Lasagna</td>\n",
              "      <td>Chicken alfredo lasagna is a delicious twist o...</td>\n",
              "    </tr>\n",
              "    <tr>\n",
              "      <th>97</th>\n",
              "      <td>classic-beef-lasagna</td>\n",
              "      <td>Classic Beef Lasagna</td>\n",
              "      <td>Classic beef lasagna is a hearty and comfortin...</td>\n",
              "    </tr>\n",
              "    <tr>\n",
              "      <th>98</th>\n",
              "      <td>vegetarian-mushroom-lasagna</td>\n",
              "      <td>Vegetarian Mushroom Lasagna</td>\n",
              "      <td>Vegetarian mushroom lasagna is a delicious and...</td>\n",
              "    </tr>\n",
              "    <tr>\n",
              "      <th>99</th>\n",
              "      <td>spinach-and-ricotta-lasagna</td>\n",
              "      <td>Spinach And Ricotta Lasagna</td>\n",
              "      <td>Spinach and ricotta lasagna is a delicious veg...</td>\n",
              "    </tr>\n",
              "  </tbody>\n",
              "</table>\n",
              "<p>100 rows × 3 columns</p>\n",
              "</div>"
            ],
            "text/plain": [
              "                    recipe_slug                 recipe_title  \\\n",
              "0                       falafel                      Falafel   \n",
              "1                    spamburger                   Spamburger   \n",
              "2              bacon-fried-rice             Bacon Fried Rice   \n",
              "3               chicken-fingers              Chicken Fingers   \n",
              "4                   apple-crisp                  Apple Crisp   \n",
              "..                          ...                          ...   \n",
              "95         bacon-mac-and-cheese         Bacon Mac And Cheese   \n",
              "96      chicken-alfredo-lasagna      Chicken Alfredo Lasagna   \n",
              "97         classic-beef-lasagna         Classic Beef Lasagna   \n",
              "98  vegetarian-mushroom-lasagna  Vegetarian Mushroom Lasagna   \n",
              "99  spinach-and-ricotta-lasagna  Spinach And Ricotta Lasagna   \n",
              "\n",
              "                                  recipe_introduction  \n",
              "0   Falafel is a popular Middle Eastern dish made ...  \n",
              "1   Spamburger is a type of hamburger that is made...  \n",
              "2   Bacon fried rice is a savory and satisfying di...  \n",
              "3   Chicken fingers are a popular dish made from c...  \n",
              "4   Apple crisp is a classic dessert made with bak...  \n",
              "..                                                ...  \n",
              "95  Bacon mac and cheese is a delicious and comfor...  \n",
              "96  Chicken alfredo lasagna is a delicious twist o...  \n",
              "97  Classic beef lasagna is a hearty and comfortin...  \n",
              "98  Vegetarian mushroom lasagna is a delicious and...  \n",
              "99  Spinach and ricotta lasagna is a delicious veg...  \n",
              "\n",
              "[100 rows x 3 columns]"
            ]
          },
          "execution_count": 44,
          "metadata": {},
          "output_type": "execute_result"
        }
      ],
      "source": [
        "recipes = pd.read_csv('recipes.tsv', sep='\\t')\n",
        "recipes"
      ]
    },
    {
      "cell_type": "code",
      "execution_count": 45,
      "metadata": {},
      "outputs": [],
      "source": [
        "fields = []\n",
        "for col in [\"recipe_title\", \"recipe_introduction\", \"recipe_slug\"]:\n",
        "    if col in recipes.columns:\n",
        "        fields.append(recipes[col].astype(str).str.lower().fillna(\"\"))\n",
        "text = fields[0]\n",
        "for f in fields[1:]:\n",
        "    text = (text + \" \" + f).fillna(\"\")"
      ]
    },
    {
      "cell_type": "code",
      "execution_count": 46,
      "metadata": {},
      "outputs": [],
      "source": [
        "# Remove pork products as I dont eat pork\n",
        "pork_words = [\n",
        "    \"pork\",\"bacon\",\"ham\",\"pepperoni\"\n",
        "]\n",
        "# items I do enjoy\n",
        "good_foods = [\n",
        "    \"chocolate\",\"brownie\",\"cake\",\"cookie\",\"dessert\",\"sweet\", \"falafel\",\"shawarma\",\"hummus\",\"chicken\"\n",
        "]"
      ]
    },
    {
      "cell_type": "code",
      "execution_count": 47,
      "metadata": {},
      "outputs": [],
      "source": [
        "def has_any(s, words):\n",
        "    return any(w in s for w in words)\n",
        "\n",
        "def assign_rating(s):\n",
        "    s = s or \"\"\n",
        "    if has_any(s, pork_words):\n",
        "        return 0.0\n",
        "    if has_any(s, good_foods):\n",
        "        return 1.0\n",
        "    return 0.5\n",
        "\n",
        "ratings = text.apply(assign_rating)\n",
        "\n",
        "# convert to 1–5 raw scale\n",
        "rating_raw = (1 + 4 * ratings).round().astype(int)\n"
      ]
    },
    {
      "cell_type": "markdown",
      "metadata": {
        "id": "kAwViBgKfWER"
      },
      "source": [
        "Hint: You may find it more convenient to assign raw ratings from 1 to 5 and then remap them as follows.\n",
        "\n",
        "`ratings[\"rating\"] = (ratings[\"rating_raw\"] - 1) * 0.25`"
      ]
    },
    {
      "cell_type": "code",
      "execution_count": 72,
      "metadata": {},
      "outputs": [],
      "source": [
        "ratings_df = pd.DataFrame({\n",
        "    \"recipe_slug\": recipes[\"recipe_slug\"],\n",
        "    \"rating\": (rating_raw - 1) * 0.25\n",
        "})"
      ]
    },
    {
      "cell_type": "code",
      "execution_count": 73,
      "metadata": {},
      "outputs": [],
      "source": [
        "ratings_df.to_csv(\"ratings.tsv\", sep=\"\\t\", index=False)"
      ]
    },
    {
      "cell_type": "code",
      "execution_count": 74,
      "metadata": {},
      "outputs": [
        {
          "data": {
            "text/html": [
              "<div>\n",
              "<style scoped>\n",
              "    .dataframe tbody tr th:only-of-type {\n",
              "        vertical-align: middle;\n",
              "    }\n",
              "\n",
              "    .dataframe tbody tr th {\n",
              "        vertical-align: top;\n",
              "    }\n",
              "\n",
              "    .dataframe thead th {\n",
              "        text-align: right;\n",
              "    }\n",
              "</style>\n",
              "<table border=\"1\" class=\"dataframe\">\n",
              "  <thead>\n",
              "    <tr style=\"text-align: right;\">\n",
              "      <th></th>\n",
              "      <th>recipe_slug</th>\n",
              "      <th>rating</th>\n",
              "    </tr>\n",
              "  </thead>\n",
              "  <tbody>\n",
              "    <tr>\n",
              "      <th>0</th>\n",
              "      <td>falafel</td>\n",
              "      <td>1.0</td>\n",
              "    </tr>\n",
              "    <tr>\n",
              "      <th>1</th>\n",
              "      <td>spamburger</td>\n",
              "      <td>0.0</td>\n",
              "    </tr>\n",
              "    <tr>\n",
              "      <th>2</th>\n",
              "      <td>bacon-fried-rice</td>\n",
              "      <td>0.0</td>\n",
              "    </tr>\n",
              "    <tr>\n",
              "      <th>3</th>\n",
              "      <td>chicken-fingers</td>\n",
              "      <td>1.0</td>\n",
              "    </tr>\n",
              "    <tr>\n",
              "      <th>4</th>\n",
              "      <td>apple-crisp</td>\n",
              "      <td>1.0</td>\n",
              "    </tr>\n",
              "    <tr>\n",
              "      <th>...</th>\n",
              "      <td>...</td>\n",
              "      <td>...</td>\n",
              "    </tr>\n",
              "    <tr>\n",
              "      <th>95</th>\n",
              "      <td>bacon-mac-and-cheese</td>\n",
              "      <td>0.0</td>\n",
              "    </tr>\n",
              "    <tr>\n",
              "      <th>96</th>\n",
              "      <td>chicken-alfredo-lasagna</td>\n",
              "      <td>1.0</td>\n",
              "    </tr>\n",
              "    <tr>\n",
              "      <th>97</th>\n",
              "      <td>classic-beef-lasagna</td>\n",
              "      <td>0.5</td>\n",
              "    </tr>\n",
              "    <tr>\n",
              "      <th>98</th>\n",
              "      <td>vegetarian-mushroom-lasagna</td>\n",
              "      <td>0.5</td>\n",
              "    </tr>\n",
              "    <tr>\n",
              "      <th>99</th>\n",
              "      <td>spinach-and-ricotta-lasagna</td>\n",
              "      <td>0.5</td>\n",
              "    </tr>\n",
              "  </tbody>\n",
              "</table>\n",
              "<p>100 rows × 2 columns</p>\n",
              "</div>"
            ],
            "text/plain": [
              "                    recipe_slug  rating\n",
              "0                       falafel     1.0\n",
              "1                    spamburger     0.0\n",
              "2              bacon-fried-rice     0.0\n",
              "3               chicken-fingers     1.0\n",
              "4                   apple-crisp     1.0\n",
              "..                          ...     ...\n",
              "95         bacon-mac-and-cheese     0.0\n",
              "96      chicken-alfredo-lasagna     1.0\n",
              "97         classic-beef-lasagna     0.5\n",
              "98  vegetarian-mushroom-lasagna     0.5\n",
              "99  spinach-and-ricotta-lasagna     0.5\n",
              "\n",
              "[100 rows x 2 columns]"
            ]
          },
          "execution_count": 74,
          "metadata": {},
          "output_type": "execute_result"
        }
      ],
      "source": [
        "ratings_df"
      ]
    },
    {
      "cell_type": "markdown",
      "metadata": {
        "id": "Eh7UaX6OvuWo"
      },
      "source": [
        "Submit \"ratings.tsv\" in Gradescope."
      ]
    },
    {
      "cell_type": "markdown",
      "metadata": {
        "id": "NiCwaZwr5M67"
      },
      "source": [
        "## Part 2: Construct Model Input\n",
        "\n",
        "Use your file \"ratings.tsv\" combined with \"recipe-tags.tsv\" to create a new file \"features.tsv\" with a column recipe_slug, a column bias which is hard-coded to one, and a column for each tag that appears in \"recipe-tags.tsv\".\n",
        "The tag column in this file should be a 0-1 encoding of the recipe tags for each recipe.\n",
        "[Pandas reshaping function methods](https://pandas.pydata.org/docs/user_guide/reshaping.html) may be helpful."
      ]
    },
    {
      "cell_type": "markdown",
      "metadata": {
        "id": "8WWi_JJXocEb"
      },
      "source": [
        "The bias column will make later LinUCB calculations easier since it will just be another dimension."
      ]
    },
    {
      "cell_type": "markdown",
      "metadata": {
        "id": "MHR-BsD9539j"
      },
      "source": [
        "Hint: For later modeling steps, it will be important to have the feature data (inputs) and the rating data (target outputs) in the same order.\n",
        "It is highly recommended to make sure that \"features.tsv\" and \"ratings.tsv\" have the recipe slugs in the same order."
      ]
    },
    {
      "cell_type": "code",
      "execution_count": 75,
      "metadata": {
        "id": "cGvj258d8nnv"
      },
      "outputs": [],
      "source": [
        "# YOUR CHANGES HERE\n",
        "\n",
        "ratings = pd.read_csv(\"ratings.tsv\", sep=\"\\t\")\n",
        "tags = pd.read_csv(\"recipe-tags.tsv\", sep=\"\\t\") "
      ]
    },
    {
      "cell_type": "code",
      "execution_count": 76,
      "metadata": {},
      "outputs": [
        {
          "data": {
            "text/html": [
              "<div>\n",
              "<style scoped>\n",
              "    .dataframe tbody tr th:only-of-type {\n",
              "        vertical-align: middle;\n",
              "    }\n",
              "\n",
              "    .dataframe tbody tr th {\n",
              "        vertical-align: top;\n",
              "    }\n",
              "\n",
              "    .dataframe thead th {\n",
              "        text-align: right;\n",
              "    }\n",
              "</style>\n",
              "<table border=\"1\" class=\"dataframe\">\n",
              "  <thead>\n",
              "    <tr style=\"text-align: right;\">\n",
              "      <th></th>\n",
              "      <th>recipe_slug</th>\n",
              "      <th>recipe_tag</th>\n",
              "    </tr>\n",
              "  </thead>\n",
              "  <tbody>\n",
              "    <tr>\n",
              "      <th>0</th>\n",
              "      <td>spam-musubi</td>\n",
              "      <td>hawaiian</td>\n",
              "    </tr>\n",
              "    <tr>\n",
              "      <th>1</th>\n",
              "      <td>spam-musubi</td>\n",
              "      <td>nori</td>\n",
              "    </tr>\n",
              "    <tr>\n",
              "      <th>2</th>\n",
              "      <td>spam-musubi</td>\n",
              "      <td>onthego</td>\n",
              "    </tr>\n",
              "    <tr>\n",
              "      <th>3</th>\n",
              "      <td>spam-musubi</td>\n",
              "      <td>rice</td>\n",
              "    </tr>\n",
              "    <tr>\n",
              "      <th>4</th>\n",
              "      <td>spam-musubi</td>\n",
              "      <td>snack</td>\n",
              "    </tr>\n",
              "    <tr>\n",
              "      <th>...</th>\n",
              "      <td>...</td>\n",
              "      <td>...</td>\n",
              "    </tr>\n",
              "    <tr>\n",
              "      <th>747</th>\n",
              "      <td>bacon-souffle</td>\n",
              "      <td>breakfast</td>\n",
              "    </tr>\n",
              "    <tr>\n",
              "      <th>748</th>\n",
              "      <td>bacon-souffle</td>\n",
              "      <td>brunch</td>\n",
              "    </tr>\n",
              "    <tr>\n",
              "      <th>749</th>\n",
              "      <td>bacon-souffle</td>\n",
              "      <td>cheese</td>\n",
              "    </tr>\n",
              "    <tr>\n",
              "      <th>750</th>\n",
              "      <td>bacon-souffle</td>\n",
              "      <td>eggs</td>\n",
              "    </tr>\n",
              "    <tr>\n",
              "      <th>751</th>\n",
              "      <td>bacon-souffle</td>\n",
              "      <td>souffle</td>\n",
              "    </tr>\n",
              "  </tbody>\n",
              "</table>\n",
              "<p>752 rows × 2 columns</p>\n",
              "</div>"
            ],
            "text/plain": [
              "       recipe_slug recipe_tag\n",
              "0      spam-musubi   hawaiian\n",
              "1      spam-musubi       nori\n",
              "2      spam-musubi    onthego\n",
              "3      spam-musubi       rice\n",
              "4      spam-musubi      snack\n",
              "..             ...        ...\n",
              "747  bacon-souffle  breakfast\n",
              "748  bacon-souffle     brunch\n",
              "749  bacon-souffle     cheese\n",
              "750  bacon-souffle       eggs\n",
              "751  bacon-souffle    souffle\n",
              "\n",
              "[752 rows x 2 columns]"
            ]
          },
          "execution_count": 76,
          "metadata": {},
          "output_type": "execute_result"
        }
      ],
      "source": [
        "tags"
      ]
    },
    {
      "cell_type": "code",
      "execution_count": 77,
      "metadata": {},
      "outputs": [
        {
          "name": "stderr",
          "output_type": "stream",
          "text": [
            "/tmp/ipykernel_1951/2080559494.py:9: PerformanceWarning: DataFrame is highly fragmented.  This is usually the result of calling `frame.insert` many times, which has poor performance.  Consider joining all columns at once using pd.concat(axis=1) instead. To get a de-fragmented frame, use `newframe = frame.copy()`\n",
            "  features.insert(1, \"bias\", 1)\n"
          ]
        }
      ],
      "source": [
        "onehot = pd.crosstab(tags[\"recipe_slug\"], tags[\"recipe_tag\"])\n",
        "\n",
        "# get features\n",
        "features = ratings[[\"recipe_slug\"]].merge(\n",
        "    onehot, how=\"left\", left_on=\"recipe_slug\", right_index=True\n",
        ").fillna(0).astype({c:int for c in onehot.columns})\n",
        "\n",
        "# add bias columns\n",
        "features.insert(1, \"bias\", 1)\n",
        "\n",
        "features.to_csv(\"features.tsv\", sep=\"\\t\", index=False)\n"
      ]
    },
    {
      "cell_type": "markdown",
      "metadata": {
        "id": "w63ji-Oi6oH7"
      },
      "source": [
        "Submit \"features.tsv\" in Gradescope."
      ]
    },
    {
      "cell_type": "markdown",
      "metadata": {
        "id": "4TeXvznlwJzo"
      },
      "source": [
        "## Part 3: Linear Preference Model\n",
        "\n",
        "Use your feature and rating files to build a ridge regression model with ridge regression's regularization parameter $\\alpha$ set to 1.\n"
      ]
    },
    {
      "cell_type": "markdown",
      "metadata": {
        "id": "aVlUnVv4oDIk"
      },
      "source": [
        "Hint: If you are using scikit-learn modeling classes, you should use `fit_intercept=False` since that intercept value will be redundant with the bias coefficient."
      ]
    },
    {
      "cell_type": "markdown",
      "metadata": {
        "id": "NLrBu-z7A45W"
      },
      "source": [
        "Hint: The estimate component of the bounds should match the previous estimate, so you should be able to just focus on the variance component of the bounds now."
      ]
    },
    {
      "cell_type": "code",
      "execution_count": 78,
      "metadata": {
        "id": "dxtiRunPwPYz"
      },
      "outputs": [],
      "source": [
        "# YOUR CHANGES HERE\n",
        "\n",
        "from sklearn.linear_model import Ridge"
      ]
    },
    {
      "cell_type": "code",
      "execution_count": 79,
      "metadata": {},
      "outputs": [],
      "source": [
        "features = pd.read_csv(\"features.tsv\", sep=\"\\t\")\n",
        "ratings = pd.read_csv(\"ratings.tsv\", sep=\"\\t\")"
      ]
    },
    {
      "cell_type": "code",
      "execution_count": 80,
      "metadata": {},
      "outputs": [],
      "source": [
        "X = features.drop(columns=[\"recipe_slug\"])\n",
        "y = ratings[\"rating\"]\n",
        "\n",
        "model = Ridge(alpha=1.0, fit_intercept=False)\n",
        "model.fit(X, y)\n",
        "\n",
        "coef_df = pd.DataFrame({\n",
        "    \"recipe_tag\": X.columns,\n",
        "    \"coefficient\": model.coef_\n",
        "})"
      ]
    },
    {
      "cell_type": "markdown",
      "metadata": {
        "id": "fw9LaHF_8tsA"
      },
      "source": [
        "Save the coefficients of this model in a file \"model.tsv\" with columns \"recipe_tag\" and \"coefficient\".\n",
        "Do not add anything for the `intercept_` attribute of a scikit-learn model; this will be covered by the coefficient for the bias column added in part 2."
      ]
    },
    {
      "cell_type": "code",
      "execution_count": 81,
      "metadata": {
        "id": "fiMBlU4L8uSR"
      },
      "outputs": [],
      "source": [
        "# YOUR CHANGES HERE\n",
        "\n",
        "coef_df.to_csv(\"model.tsv\", sep=\"\\t\", index=False)"
      ]
    },
    {
      "cell_type": "markdown",
      "metadata": {
        "id": "86uS_zZ0wQxC"
      },
      "source": [
        "Submit \"model.tsv\" in Gradescope."
      ]
    },
    {
      "cell_type": "markdown",
      "metadata": {
        "id": "B1Nfs7zCsDpj"
      },
      "source": [
        "## Part 4: Recipe Estimates\n",
        "\n",
        "Use the recipe model to estimate the score of every recipe.\n",
        "Save these estimates to a file \"estimates.tsv\" with columns recipe_slug and score_estimate."
      ]
    },
    {
      "cell_type": "code",
      "execution_count": 82,
      "metadata": {
        "id": "pIClPwYVso5a"
      },
      "outputs": [],
      "source": [
        "# YOUR CHANGES HERE\n",
        "\n",
        "features = pd.features = pd.read_csv(\"features.tsv\", sep=\"\\t\")\n",
        "coef_df  = pd.read_csv(\"model.tsv\", sep=\"\\t\")\n"
      ]
    },
    {
      "cell_type": "code",
      "execution_count": 83,
      "metadata": {},
      "outputs": [],
      "source": [
        "X = features.drop(columns=[\"recipe_slug\"])\n",
        "coefs = coef_df.set_index(\"recipe_tag\")[\"coefficient\"]"
      ]
    },
    {
      "cell_type": "code",
      "execution_count": 84,
      "metadata": {},
      "outputs": [],
      "source": [
        "for c in X.columns:\n",
        "    if c not in coefs.index:\n",
        "        coefs.loc[c] = 0.0\n",
        "coefs = coefs.reindex(X.columns).fillna(0.0)"
      ]
    },
    {
      "cell_type": "code",
      "execution_count": 85,
      "metadata": {},
      "outputs": [],
      "source": [
        "scores = X.values @ coefs.values"
      ]
    },
    {
      "cell_type": "code",
      "execution_count": 86,
      "metadata": {},
      "outputs": [],
      "source": [
        "estimates = pd.DataFrame({\n",
        "    \"recipe_slug\": features[\"recipe_slug\"],\n",
        "    \"score_estimate\": scores\n",
        "})\n",
        "estimates.to_csv(\"estimates.tsv\", sep=\"\\t\", index=False)"
      ]
    },
    {
      "cell_type": "markdown",
      "metadata": {
        "id": "i5t3uSE_srMA"
      },
      "source": [
        "Submit \"estimates.tsv\" in Gradescope."
      ]
    },
    {
      "cell_type": "markdown",
      "metadata": {
        "id": "yTBplNhRst8q"
      },
      "source": [
        "## Part 5: LinUCB Bounds\n",
        "\n",
        "Calculate the upper bounds of LinUCB using data corresponding to trying every recipe once and receiving the rating in \"ratings.tsv\" as the reward.\n",
        "Keep the ridge regression regularization parameter at 1, and set LinUCB's $\\alpha$ parameter to 2.\n",
        "Save these upper bounds to a file \"bounds.tsv\" with columns recipe_slug and score_bound."
      ]
    },
    {
      "cell_type": "code",
      "execution_count": 91,
      "metadata": {
        "id": "kY7aWD_PuP0W"
      },
      "outputs": [],
      "source": [
        "# YOUR CHANGES HERE\n",
        "\n",
        "ridge_reg = 1\n",
        "ucb_alpha = 2\n",
        "\n",
        "features = pd.read_csv(\"features.tsv\", sep=\"\\t\")\n",
        "ratings  = pd.read_csv(\"ratings.tsv\",  sep=\"\\t\")"
      ]
    },
    {
      "cell_type": "code",
      "execution_count": 92,
      "metadata": {},
      "outputs": [],
      "source": [
        "X = features.drop(columns=[\"recipe_slug\"]).to_numpy(dtype=float)\n",
        "y = ratings[\"rating\"].to_numpy(dtype=float)\n",
        "\n",
        "A = ridge_reg * np.eye(X.shape[1]) + X.T @ X\n",
        "b = X.T @ y\n",
        "theta = np.linalg.solve(A, b)"
      ]
    },
    {
      "cell_type": "code",
      "execution_count": 93,
      "metadata": {},
      "outputs": [],
      "source": [
        "bounds = []\n",
        "for i, slug in enumerate(features[\"recipe_slug\"]):\n",
        "    x = X[i, :]\n",
        "    z = np.linalg.solve(A, x)\n",
        "    var_term = float(np.sqrt(x @ z))\n",
        "    estimate = float(x @ theta)\n",
        "    ucb = estimate + ucb_alpha * var_term\n",
        "    bounds.append((slug, ucb))"
      ]
    },
    {
      "cell_type": "code",
      "execution_count": 94,
      "metadata": {},
      "outputs": [],
      "source": [
        "pd.DataFrame(bounds, columns=[\"recipe_slug\", \"score_bound\"]).to_csv(\"bounds.tsv\", sep=\"\\t\", index=False)"
      ]
    },
    {
      "cell_type": "markdown",
      "metadata": {
        "id": "ZQ4RPppFvG-S"
      },
      "source": [
        "Submit \"bounds.tsv\" in Gradescope."
      ]
    },
    {
      "cell_type": "markdown",
      "metadata": {
        "id": "AfazOSWlwYsP"
      },
      "source": [
        "## Part 6: Make Online Recommendations\n",
        "\n",
        "Implement LinUCB to make 100 recommendations starting with no data and using the same parameters as in part 5.\n",
        "One recommendation should be made at a time and you can break ties arbitrarily.\n",
        "After each recommendation, use the rating from part 1 as the reward to update the LinUCB data.\n",
        "Record the recommendations made in a file \"recommendations.tsv\" with columns \"recipe_slug\", \"score_bound\", and \"reward\".\n",
        "The rows in this file should be in the same order as the recommendations were made."
      ]
    },
    {
      "cell_type": "code",
      "execution_count": 67,
      "metadata": {
        "id": "hQ7r45B7wm4v"
      },
      "outputs": [],
      "source": [
        "# YOUR CHANGES HERE\n",
        "\n",
        "X_df = pd.read_csv(\"features.tsv\", sep=\"\\t\")\n",
        "y_df = pd.read_csv(\"ratings.tsv\",  sep=\"\\t\")"
      ]
    },
    {
      "cell_type": "code",
      "execution_count": 68,
      "metadata": {},
      "outputs": [],
      "source": [
        "\n",
        "X = X_df.drop(columns=[\"recipe_slug\"]).to_numpy(float)\n",
        "y = y_df[\"rating\"].to_numpy(float)\n",
        "slugs = X_df[\"recipe_slug\"].tolist()"
      ]
    },
    {
      "cell_type": "code",
      "execution_count": 69,
      "metadata": {},
      "outputs": [],
      "source": [
        "lam = 1.0\n",
        "alpha = 2.0\n",
        "rounds = 100\n",
        "\n",
        "d = X.shape[1]\n",
        "A = lam * np.eye(d)\n",
        "b = np.zeros(d)\n",
        "\n",
        "available = set(range(len(slugs)))\n",
        "results = []"
      ]
    },
    {
      "cell_type": "code",
      "execution_count": 70,
      "metadata": {},
      "outputs": [],
      "source": [
        "for _ in range(min(rounds, len(slugs))):\n",
        "    theta = np.linalg.solve(A, b)\n",
        "\n",
        "    # score LinUCB bound for each available recipe\n",
        "    best_i, best_bound = None, -np.inf\n",
        "    for i in available:\n",
        "        x = X[i]\n",
        "        z = np.linalg.solve(A, x)\n",
        "        ucb = float(x @ theta) + alpha * float(np.sqrt(x @ z))\n",
        "        if ucb > best_bound:\n",
        "            best_i, best_bound = i, ucb\n",
        "\n",
        "    r = float(y[best_i])\n",
        "    x = X[best_i]\n",
        "\n",
        "    # update\n",
        "    A += np.outer(x, x)\n",
        "    b += r * x\n",
        "\n",
        "    results.append({\"recipe_slug\": slugs[best_i], \"score_bound\": round(best_bound, 6), \"reward\": r})\n",
        "    available.remove(best_i)"
      ]
    },
    {
      "cell_type": "markdown",
      "metadata": {
        "id": "23jv0cD0woSt"
      },
      "source": [
        "Submit \"recommendations.tsv\" in Gradescope."
      ]
    },
    {
      "cell_type": "code",
      "execution_count": 71,
      "metadata": {},
      "outputs": [],
      "source": [
        "pd.DataFrame(results).to_csv(\"recommendations.tsv\", sep=\"\\t\", index=False)"
      ]
    },
    {
      "cell_type": "markdown",
      "metadata": {
        "id": "zi8lV2pbvWMs"
      },
      "source": [
        "## Part 7: Acknowledgments\n",
        "\n",
        "Make a file \"acknowledgments.txt\" documenting any outside sources or help on this project.\n",
        "If you discussed this assignment with anyone, please acknowledge them here.\n",
        "If you used any libraries not mentioned in this module's content, please list them with a brief explanation what you used them for.\n",
        "If you used any generative AI tools, please add links to your transcripts below, and any other information that you feel is necessary to comply with the generative AI policy.\n",
        "If no acknowledgements are appropriate, just write none in the file.\n"
      ]
    },
    {
      "cell_type": "markdown",
      "metadata": {
        "id": "SuNJe62UxCoH"
      },
      "source": [
        "Submit \"acknowledgments.txt\" in Gradescope."
      ]
    },
    {
      "cell_type": "markdown",
      "metadata": {
        "id": "smsTLuFcvR-I"
      },
      "source": [
        "## Part 8: Code\n",
        "\n",
        "Please submit a Jupyter notebook that can reproduce all your calculations and recreate the previously submitted files.\n"
      ]
    },
    {
      "cell_type": "markdown",
      "metadata": {
        "id": "3cgzHyF7wxpr"
      },
      "source": [
        "Submit \"project.ipynb\" in Gradescope."
      ]
    }
  ],
  "metadata": {
    "colab": {
      "toc_visible": false
    },
    "kernelspec": {
      "display_name": "Python 3",
      "name": "python3"
    },
    "language_info": {
      "codemirror_mode": {
        "name": "ipython",
        "version": 3
      },
      "file_extension": ".py",
      "mimetype": "text/x-python",
      "name": "python",
      "nbconvert_exporter": "python",
      "pygments_lexer": "ipython3",
      "version": "3.12.1"
    }
  },
  "nbformat": 4,
  "nbformat_minor": 0
}
